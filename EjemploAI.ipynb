{
  "nbformat": 4,
  "nbformat_minor": 0,
  "metadata": {
    "colab": {
      "name": "Untitled0.ipynb",
      "provenance": [],
      "authorship_tag": "ABX9TyM482Tqi+QE46DNVgeYpgh3",
      "include_colab_link": true
    },
    "kernelspec": {
      "name": "python3",
      "display_name": "Python 3"
    },
    "language_info": {
      "name": "python"
    }
  },
  "cells": [
    {
      "cell_type": "markdown",
      "metadata": {
        "id": "view-in-github",
        "colab_type": "text"
      },
      "source": [
        "<a href=\"https://colab.research.google.com/github/randyandroid/Ingenieria/blob/main/EjemploAI.ipynb\" target=\"_parent\"><img src=\"https://colab.research.google.com/assets/colab-badge.svg\" alt=\"Open In Colab\"/></a>"
      ]
    },
    {
      "cell_type": "code",
      "execution_count": 1,
      "metadata": {
        "id": "NvKSIgMSLl3F"
      },
      "outputs": [],
      "source": [
        "import tensorflow as tf\n",
        "import numpy as np"
      ]
    },
    {
      "cell_type": "code",
      "source": [
        "horas = np.array([8,5,4,0,12,7,10],dtype=float)\n",
        "notas = np.array([80,75,88,55,98,87,99],dtype=float)"
      ],
      "metadata": {
        "id": "mJ9lR4XnNgYM"
      },
      "execution_count": 17,
      "outputs": []
    },
    {
      "cell_type": "code",
      "source": [
        "capa = tf.keras.layers.Dense(units=1,input_shape=[1]) \n",
        "modelo = tf.keras.Sequential([capa])\n"
      ],
      "metadata": {
        "id": "Zj80kudiOkzX"
      },
      "execution_count": 10,
      "outputs": []
    },
    {
      "cell_type": "code",
      "source": [
        "\n",
        "modelo.compile(\n",
        "    optimizer = tf.keras.optimizers.Adam(1.0),\n",
        "    loss = 'mean_squared_error'\n",
        "\n",
        ")"
      ],
      "metadata": {
        "id": "Y62pe3j5Qxpu"
      },
      "execution_count": 113,
      "outputs": []
    },
    {
      "cell_type": "code",
      "source": [
        "print(\"...Entrenando la Red Neuronal...\")\n",
        "historial = modelo.fit(notas, horas, epochs=1000, verbose=False)\n",
        "print(\"...Red Neuronal Entrenada...\")"
      ],
      "metadata": {
        "colab": {
          "base_uri": "https://localhost:8080/"
        },
        "id": "kfhYfpMBVDv5",
        "outputId": "275b832d-267e-47fe-b1d5-4ea2ef3607fd"
      },
      "execution_count": 114,
      "outputs": [
        {
          "output_type": "stream",
          "name": "stdout",
          "text": [
            "...Entrenando la Red Neuronal...\n",
            "...Red Neuronal Entrenada...\n"
          ]
        }
      ]
    },
    {
      "cell_type": "code",
      "source": [
        "import matplotlib.pyplot as plt\n",
        "plt.xlabel(\"# Vuelta\")\n",
        "plt.ylabel(\"Magnitud de Perdida\")\n",
        "plt.plot(historial.history[\"loss\"])\n"
      ],
      "metadata": {
        "colab": {
          "base_uri": "https://localhost:8080/",
          "height": 296
        },
        "id": "H01uOkKHXiME",
        "outputId": "f94b300e-64f4-4e13-907a-a94d6453dbbe"
      },
      "execution_count": 115,
      "outputs": [
        {
          "output_type": "execute_result",
          "data": {
            "text/plain": [
              "[<matplotlib.lines.Line2D at 0x7fda73e89390>]"
            ]
          },
          "metadata": {},
          "execution_count": 115
        },
        {
          "output_type": "display_data",
          "data": {
            "image/png": "[encoded data removed]",
            "text/plain": [
              "<Figure size 432x288 with 1 Axes>"
            ]
          },
          "metadata": {
            "needs_background": "light"
          }
        }
      ]
    },
    {
      "cell_type": "code",
      "source": [
        "print(\"...Probemos el la Red Neuronal...\")\n",
        "resultado = modelo.predict([100.0])\n",
        "print(\"El resultado es \" + str(resultado))\n"
      ],
      "metadata": {
        "colab": {
          "base_uri": "https://localhost:8080/"
        },
        "id": "O9Rc-luOZHNh",
        "outputId": "be3306b9-0aed-4ec1-d50b-2d85cc1ea0b4"
      },
      "execution_count": 116,
      "outputs": [
        {
          "output_type": "stream",
          "name": "stdout",
          "text": [
            "...Probemos el la Red Neuronal...\n",
            "El resultado es [[10.455768]]\n"
          ]
        }
      ]
    },
    {
      "cell_type": "code",
      "source": [
        "print(\"Variables internas del modelo\")\n",
        "print(capa.get_weights())"
      ],
      "metadata": {
        "colab": {
          "base_uri": "https://localhost:8080/"
        },
        "id": "lWfsB-e8acV9",
        "outputId": "4445c997-f60f-4521-f8b7-0957d64bf860"
      },
      "execution_count": 112,
      "outputs": [
        {
          "output_type": "stream",
          "name": "stdout",
          "text": [
            "Variables internas del modelo\n",
            "[array([[0.22330278]], dtype=float32), array([-11.97843], dtype=float32)]\n"
          ]
        }
      ]
    },
    {
      "cell_type": "code",
      "source": [
        ""
      ],
      "metadata": {
        "id": "UDXzD2aZaQlI"
      },
      "execution_count": null,
      "outputs": []
    },
    {
      "cell_type": "code",
      "source": [
        ""
      ],
      "metadata": {
        "id": "BEih5mrrRtSk"
      },
      "execution_count": 8,
      "outputs": []
    }
  ]
}